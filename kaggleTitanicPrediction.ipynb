{
 "cells": [
  {
   "cell_type": "code",
   "execution_count": 163,
   "metadata": {
    "collapsed": true
   },
   "outputs": [],
   "source": [
    "# Kaggle案例：泰坦尼克号\n",
    "\n",
    "import pandas as pd\n",
    "import numpy as np\n",
    "import matplotlib.pyplot as plt\n",
    "from sklearn.neighbors import KNeighborsClassifier"
   ]
  },
  {
   "cell_type": "code",
   "execution_count": 10,
   "metadata": {
    "collapsed": false
   },
   "outputs": [
    {
     "data": {
      "text/html": [
       "<div>\n",
       "<table border=\"1\" class=\"dataframe\">\n",
       "  <thead>\n",
       "    <tr style=\"text-align: right;\">\n",
       "      <th></th>\n",
       "      <th>PassengerId</th>\n",
       "      <th>Survived</th>\n",
       "      <th>Pclass</th>\n",
       "      <th>Name</th>\n",
       "      <th>Sex</th>\n",
       "      <th>Age</th>\n",
       "      <th>SibSp</th>\n",
       "      <th>Parch</th>\n",
       "      <th>Ticket</th>\n",
       "      <th>Fare</th>\n",
       "      <th>Cabin</th>\n",
       "      <th>Embarked</th>\n",
       "    </tr>\n",
       "  </thead>\n",
       "  <tbody>\n",
       "    <tr>\n",
       "      <th>0</th>\n",
       "      <td>1</td>\n",
       "      <td>0</td>\n",
       "      <td>3</td>\n",
       "      <td>Braund, Mr. Owen Harris</td>\n",
       "      <td>male</td>\n",
       "      <td>22.0</td>\n",
       "      <td>1</td>\n",
       "      <td>0</td>\n",
       "      <td>A/5 21171</td>\n",
       "      <td>7.2500</td>\n",
       "      <td>NaN</td>\n",
       "      <td>S</td>\n",
       "    </tr>\n",
       "    <tr>\n",
       "      <th>1</th>\n",
       "      <td>2</td>\n",
       "      <td>1</td>\n",
       "      <td>1</td>\n",
       "      <td>Cumings, Mrs. John Bradley (Florence Briggs Th...</td>\n",
       "      <td>female</td>\n",
       "      <td>38.0</td>\n",
       "      <td>1</td>\n",
       "      <td>0</td>\n",
       "      <td>PC 17599</td>\n",
       "      <td>71.2833</td>\n",
       "      <td>C85</td>\n",
       "      <td>C</td>\n",
       "    </tr>\n",
       "    <tr>\n",
       "      <th>2</th>\n",
       "      <td>3</td>\n",
       "      <td>1</td>\n",
       "      <td>3</td>\n",
       "      <td>Heikkinen, Miss. Laina</td>\n",
       "      <td>female</td>\n",
       "      <td>26.0</td>\n",
       "      <td>0</td>\n",
       "      <td>0</td>\n",
       "      <td>STON/O2. 3101282</td>\n",
       "      <td>7.9250</td>\n",
       "      <td>NaN</td>\n",
       "      <td>S</td>\n",
       "    </tr>\n",
       "    <tr>\n",
       "      <th>3</th>\n",
       "      <td>4</td>\n",
       "      <td>1</td>\n",
       "      <td>1</td>\n",
       "      <td>Futrelle, Mrs. Jacques Heath (Lily May Peel)</td>\n",
       "      <td>female</td>\n",
       "      <td>35.0</td>\n",
       "      <td>1</td>\n",
       "      <td>0</td>\n",
       "      <td>113803</td>\n",
       "      <td>53.1000</td>\n",
       "      <td>C123</td>\n",
       "      <td>S</td>\n",
       "    </tr>\n",
       "    <tr>\n",
       "      <th>4</th>\n",
       "      <td>5</td>\n",
       "      <td>0</td>\n",
       "      <td>3</td>\n",
       "      <td>Allen, Mr. William Henry</td>\n",
       "      <td>male</td>\n",
       "      <td>35.0</td>\n",
       "      <td>0</td>\n",
       "      <td>0</td>\n",
       "      <td>373450</td>\n",
       "      <td>8.0500</td>\n",
       "      <td>NaN</td>\n",
       "      <td>S</td>\n",
       "    </tr>\n",
       "  </tbody>\n",
       "</table>\n",
       "</div>"
      ],
      "text/plain": [
       "   PassengerId  Survived  Pclass  \\\n",
       "0            1         0       3   \n",
       "1            2         1       1   \n",
       "2            3         1       3   \n",
       "3            4         1       1   \n",
       "4            5         0       3   \n",
       "\n",
       "                                                Name     Sex   Age  SibSp  \\\n",
       "0                            Braund, Mr. Owen Harris    male  22.0      1   \n",
       "1  Cumings, Mrs. John Bradley (Florence Briggs Th...  female  38.0      1   \n",
       "2                             Heikkinen, Miss. Laina  female  26.0      0   \n",
       "3       Futrelle, Mrs. Jacques Heath (Lily May Peel)  female  35.0      1   \n",
       "4                           Allen, Mr. William Henry    male  35.0      0   \n",
       "\n",
       "   Parch            Ticket     Fare Cabin Embarked  \n",
       "0      0         A/5 21171   7.2500   NaN        S  \n",
       "1      0          PC 17599  71.2833   C85        C  \n",
       "2      0  STON/O2. 3101282   7.9250   NaN        S  \n",
       "3      0            113803  53.1000  C123        S  \n",
       "4      0            373450   8.0500   NaN        S  "
      ]
     },
     "execution_count": 10,
     "metadata": {},
     "output_type": "execute_result"
    }
   ],
   "source": [
    "# 导入数据集\n",
    "\n",
    "train = pd.read_csv('./datasets/titanic/train.csv')\n",
    "test = pd.read_csv('./datasets/titanic/test.csv')\n",
    "\n",
    "# PassengerId 乘客ID\n",
    "# Survived 是否幸存。0遇难，1幸存\n",
    "# Pclass 船舱等级，1Upper，2Middle，3Lower\n",
    "# Name 姓名\n",
    "# Sex 性别\n",
    "# Age 年龄\n",
    "# SibSp 兄弟姐妹及配偶个数\n",
    "# Parch 父母或子女个数\n",
    "# Ticket 乘客的船票号\n",
    "# Fare 乘客的船票价\n",
    "# Cabin 乘客所在舱位\n",
    "# Embarked 乘客登船口岸\n",
    "\n",
    "train.head()                                          # 查看数据集前几行数据"
   ]
  },
  {
   "cell_type": "code",
   "execution_count": 7,
   "metadata": {
    "collapsed": false
   },
   "outputs": [
    {
     "name": "stdout",
     "output_type": "stream",
     "text": [
      "(891, 12)\n"
     ]
    }
   ],
   "source": [
    "print(train.shape)                                   # 查看数据行数、列数"
   ]
  },
  {
   "cell_type": "code",
   "execution_count": 44,
   "metadata": {
    "collapsed": false
   },
   "outputs": [
    {
     "name": "stdout",
     "output_type": "stream",
     "text": [
      "<class 'pandas.core.frame.DataFrame'>\n",
      "RangeIndex: 891 entries, 0 to 890\n",
      "Data columns (total 12 columns):\n",
      "PassengerId    891 non-null int64\n",
      "Survived       891 non-null int64\n",
      "Pclass         891 non-null int64\n",
      "Name           891 non-null object\n",
      "Sex            891 non-null object\n",
      "Age            714 non-null float64\n",
      "SibSp          891 non-null int64\n",
      "Parch          891 non-null int64\n",
      "Ticket         891 non-null object\n",
      "Fare           891 non-null float64\n",
      "Cabin          204 non-null object\n",
      "Embarked       889 non-null object\n",
      "dtypes: float64(2), int64(5), object(5)\n",
      "memory usage: 83.6+ KB\n",
      "None\n",
      "\n",
      "\n",
      "<class 'pandas.core.frame.DataFrame'>\n",
      "RangeIndex: 418 entries, 0 to 417\n",
      "Data columns (total 11 columns):\n",
      "PassengerId    418 non-null int64\n",
      "Pclass         418 non-null int64\n",
      "Name           418 non-null object\n",
      "Sex            418 non-null object\n",
      "Age            332 non-null float64\n",
      "SibSp          418 non-null int64\n",
      "Parch          418 non-null int64\n",
      "Ticket         418 non-null object\n",
      "Fare           417 non-null float64\n",
      "Cabin          91 non-null object\n",
      "Embarked       418 non-null object\n",
      "dtypes: float64(2), int64(4), object(5)\n",
      "memory usage: 36.0+ KB\n",
      "None\n"
     ]
    }
   ],
   "source": [
    "print(train.info())                                  # 查看数据集的基本情况，查看缺失的数据情况，并进行数据处理 \n",
    "print('\\n')\n",
    "print(test.info())"
   ]
  },
  {
   "cell_type": "code",
   "execution_count": 14,
   "metadata": {
    "collapsed": false
   },
   "outputs": [],
   "source": [
    "# 剔除无关和缺失较多的数据，分别剔除：名字、船票ticket、船舱、登船口岸\n",
    "# .loc 通过自定义索引获取数据 , 其中 .loc[:,:]中括号里面逗号前面的表示行，逗号后面的表示列\n",
    "\n",
    "refresh_train = train.loc[:, ['PassengerId','Survived','Pclass','Sex','Age','SibSp','Parch','Fare']]\n",
    "refresh_test = test.loc[:, ['PassengerId','Pclass','Sex','Age','SibSp','Parch','Fare']]"
   ]
  },
  {
   "cell_type": "code",
   "execution_count": 38,
   "metadata": {
    "collapsed": false
   },
   "outputs": [
    {
     "name": "stdout",
     "output_type": "stream",
     "text": [
      "0    False\n",
      "1    False\n",
      "2    False\n",
      "3    False\n",
      "4    False\n",
      "Name: Age, dtype: bool\n"
     ]
    }
   ],
   "source": [
    "# 填充年龄空值（填充年龄的中位数代替空值）\n",
    "\n",
    "train_age = refresh_train['Age'].median()                                          # 获取乘客年龄的中位数\n",
    "test_age = refresh_train['Age'].median()\n",
    "\n",
    "print(refresh_train['Age'].isnull().head())                                        # 查看年龄是否为空，返回True/False\n",
    "\n",
    "refresh_train.loc[refresh_train['Age'].isnull(), 'Age'] = train_age                # 将年龄为空值的地方填充为年龄中位数\n",
    "refresh_test.loc[refresh_test['Age'].isnull(), 'Age'] = test_age"
   ]
  },
  {
   "cell_type": "code",
   "execution_count": 61,
   "metadata": {
    "collapsed": false
   },
   "outputs": [
    {
     "name": "stdout",
     "output_type": "stream",
     "text": [
      "Series([], Name: Fare, dtype: float64)\n"
     ]
    }
   ],
   "source": [
    "# 填充船票价格（填充船票的众数代替空值）\n",
    "                    \n",
    "test_fare = refresh_test['Fare'].mode()                                            # 测试集中有一条数据为空，获取测试集中船票的众数\n",
    "\n",
    "print(refresh_test.loc[refresh_test['Fare'].isnull(), 'Fare'])                     # 打印查看是否有数据集船票为空\n",
    "refresh_test.loc[refresh_test['Fare'].isnull(), 'Fare'] = test_fare[0]\n",
    "# print(refresh_test.loc[refresh_test['Fare'].isnull(), 'Fare'])"
   ]
  },
  {
   "cell_type": "code",
   "execution_count": 185,
   "metadata": {
    "collapsed": false
   },
   "outputs": [
    {
     "name": "stdout",
     "output_type": "stream",
     "text": [
      "   PassengerId  Survived  Pclass  Sex   Age     Fare  familysize  isalone\n",
      "0            1         0       3    1  22.0   7.2500           2        1\n",
      "1            2         1       1    0  38.0  71.2833           2        1\n",
      "2            3         1       3    0  26.0   7.9250           1        1\n",
      "3            4         1       1    0  35.0  53.1000           2        1\n",
      "4            5         0       3    1  35.0   8.0500           1        1\n"
     ]
    }
   ],
   "source": [
    "# 将性别从字符串类型转化为整数类型\n",
    "\n",
    "# refresh_train['Sex'] = refresh_train['Sex'].map({\"male\":1, \"female\":0}).astype(int)          # 将该列的值为male映射为1，female映射为0\n",
    "refresh_test['Sex'] = refresh_test['Sex'].map({\"male\":1, \"female\":0}).astype(int)  \n",
    "print(refresh_train.head())"
   ]
  },
  {
   "cell_type": "code",
   "execution_count": 80,
   "metadata": {
    "collapsed": false
   },
   "outputs": [
    {
     "data": {
      "text/html": [
       "<div>\n",
       "<table border=\"1\" class=\"dataframe\">\n",
       "  <thead>\n",
       "    <tr style=\"text-align: right;\">\n",
       "      <th></th>\n",
       "      <th>PassengerId</th>\n",
       "      <th>Survived</th>\n",
       "      <th>Pclass</th>\n",
       "      <th>Sex</th>\n",
       "      <th>Age</th>\n",
       "      <th>SibSp</th>\n",
       "      <th>Parch</th>\n",
       "      <th>Fare</th>\n",
       "      <th>familysize</th>\n",
       "      <th>isalone</th>\n",
       "    </tr>\n",
       "  </thead>\n",
       "  <tbody>\n",
       "    <tr>\n",
       "      <th>0</th>\n",
       "      <td>1</td>\n",
       "      <td>0</td>\n",
       "      <td>3</td>\n",
       "      <td>1</td>\n",
       "      <td>22.0</td>\n",
       "      <td>1</td>\n",
       "      <td>0</td>\n",
       "      <td>7.2500</td>\n",
       "      <td>2</td>\n",
       "      <td>1</td>\n",
       "    </tr>\n",
       "    <tr>\n",
       "      <th>1</th>\n",
       "      <td>2</td>\n",
       "      <td>1</td>\n",
       "      <td>1</td>\n",
       "      <td>0</td>\n",
       "      <td>38.0</td>\n",
       "      <td>1</td>\n",
       "      <td>0</td>\n",
       "      <td>71.2833</td>\n",
       "      <td>2</td>\n",
       "      <td>1</td>\n",
       "    </tr>\n",
       "    <tr>\n",
       "      <th>2</th>\n",
       "      <td>3</td>\n",
       "      <td>1</td>\n",
       "      <td>3</td>\n",
       "      <td>0</td>\n",
       "      <td>26.0</td>\n",
       "      <td>0</td>\n",
       "      <td>0</td>\n",
       "      <td>7.9250</td>\n",
       "      <td>1</td>\n",
       "      <td>1</td>\n",
       "    </tr>\n",
       "    <tr>\n",
       "      <th>3</th>\n",
       "      <td>4</td>\n",
       "      <td>1</td>\n",
       "      <td>1</td>\n",
       "      <td>0</td>\n",
       "      <td>35.0</td>\n",
       "      <td>1</td>\n",
       "      <td>0</td>\n",
       "      <td>53.1000</td>\n",
       "      <td>2</td>\n",
       "      <td>1</td>\n",
       "    </tr>\n",
       "    <tr>\n",
       "      <th>4</th>\n",
       "      <td>5</td>\n",
       "      <td>0</td>\n",
       "      <td>3</td>\n",
       "      <td>1</td>\n",
       "      <td>35.0</td>\n",
       "      <td>0</td>\n",
       "      <td>0</td>\n",
       "      <td>8.0500</td>\n",
       "      <td>1</td>\n",
       "      <td>1</td>\n",
       "    </tr>\n",
       "  </tbody>\n",
       "</table>\n",
       "</div>"
      ],
      "text/plain": [
       "   PassengerId  Survived  Pclass  Sex   Age  SibSp  Parch     Fare  \\\n",
       "0            1         0       3    1  22.0      1      0   7.2500   \n",
       "1            2         1       1    0  38.0      1      0  71.2833   \n",
       "2            3         1       3    0  26.0      0      0   7.9250   \n",
       "3            4         1       1    0  35.0      1      0  53.1000   \n",
       "4            5         0       3    1  35.0      0      0   8.0500   \n",
       "\n",
       "   familysize  isalone  \n",
       "0           2        1  \n",
       "1           2        1  \n",
       "2           1        1  \n",
       "3           2        1  \n",
       "4           1        1  "
      ]
     },
     "execution_count": 80,
     "metadata": {},
     "output_type": "execute_result"
    }
   ],
   "source": [
    "# 数据重构，增加两个特征：家庭总人口、是否单身\n",
    "\n",
    "refresh_train['familysize'] = refresh_train.loc[:, 'SibSp']+refresh_train.loc[:, 'Parch']+1    # 兄妹个数+父母子女数+自己本身\n",
    "refresh_test['familysize'] = refresh_test.loc[:, 'SibSp']+refresh_test.loc[:, 'Parch']+1\n",
    "\n",
    "refresh_train['isalone'] = refresh_train.loc[refresh_train['familysize']==1, 'isalone'] = 1    # 当计算到家庭总数为1时，表示是单身孤身一人\n",
    "refresh_test['isalone'] = refresh_test.loc[refresh_test['familysize']==1, 'isalone'] = 1\n",
    "\n",
    "refresh_train.head()"
   ]
  },
  {
   "cell_type": "code",
   "execution_count": 84,
   "metadata": {
    "collapsed": false
   },
   "outputs": [],
   "source": [
    "# 获取重构后的数据，去掉兄弟姐妹和父母子女数，增加为家庭总人口和是否单身\n",
    "\n",
    "refresh_train = refresh_train.loc[:, ['PassengerId','Survived','Pclass','Sex','Age','Fare','familysize','isalone']]\n",
    "refresh_test = refresh_test.loc[:, ['PassengerId','Pclass','Sex','Age','Fare','familysize','isalone']]"
   ]
  },
  {
   "cell_type": "code",
   "execution_count": 142,
   "metadata": {
    "collapsed": false
   },
   "outputs": [
    {
     "name": "stdout",
     "output_type": "stream",
     "text": [
      "         Survived\n",
      "isalone          \n",
      "1        0.383838\n",
      "0        0.616162\n"
     ]
    },
    {
     "data": {
      "image/png": "[encoded data removed]",
      "text/plain": [
       "<matplotlib.figure.Figure at 0xbc7b4a8>"
      ]
     },
     "metadata": {},
     "output_type": "display_data"
    }
   ],
   "source": [
    "# 数据分析\n",
    "\n",
    "# 分析单身与存活率的关系\n",
    "survived_ratio = refresh_train[[\"isalone\", \"Survived\"]].groupby(['isalone']).mean()             # 按isalone进行分组统计存活的平均数\n",
    "survived_ratio.loc[0, 'Survived'] = 1-survived_ratio.loc[1, 'Survived']\n",
    "print(survived_ratio)\n",
    "\n",
    "plt.bar(\n",
    "    [0.1, 1],                                                                                     # 每个柱子左移的范围\n",
    "    [survived_ratio.loc[0,'Survived'],survived_ratio.loc[1,'Survived']],                          # y轴的数字\n",
    "    0.5,                                                                                          # 柱子的宽度\n",
    "    color='r',                                                                                    # 柱子的颜色\n",
    "    alpha=0.5,                                                                                    # 透明度\n",
    ")\n",
    "\n",
    "plt.xticks([0.35,1.25], ['NotAlone','Alone'])                                                     # 设置x坐标系的信息，(文字的左距，文字内容）\n",
    "plt.xlabel(\"Loneness\")\n",
    "plt.ylabel(\"Survived Ratio\")\n",
    "plt.show()"
   ]
  },
  {
   "cell_type": "code",
   "execution_count": 143,
   "metadata": {
    "collapsed": false
   },
   "outputs": [
    {
     "name": "stdout",
     "output_type": "stream",
     "text": [
      "     Survived\n",
      "Sex          \n",
      "0    0.742038\n",
      "1    0.188908\n"
     ]
    },
    {
     "data": {
      "image/png": "[encoded data removed]",
      "text/plain": [
       "<matplotlib.figure.Figure at 0xac53400>"
      ]
     },
     "metadata": {},
     "output_type": "display_data"
    }
   ],
   "source": [
    "# 分析男女存活率\n",
    "\n",
    "sex_survivedRatio = refresh_train[['Sex', 'Survived']].groupby([\"Sex\"]).mean()\n",
    "print(sex_survivedRatio)\n",
    "\n",
    "plt.bar(\n",
    "    [0.1, 1], \n",
    "    [sex_survivedRatio.loc[1, 'Survived'], sex_survivedRatio.loc[0, 'Survived']], \n",
    "    0.5,\n",
    "    color='r',                                                                                  \n",
    "    alpha=0.5,  \n",
    ")\n",
    "\n",
    "plt.xticks([0.35, 1.25], ['Male', 'Female'])\n",
    "plt.xlabel(\"Sex\")\n",
    "plt.ylabel(\"Survived Ratio\")\n",
    "plt.show()"
   ]
  },
  {
   "cell_type": "code",
   "execution_count": 152,
   "metadata": {
    "collapsed": false
   },
   "outputs": [
    {
     "name": "stdout",
     "output_type": "stream",
     "text": [
      "        Survived\n",
      "Pclass          \n",
      "1       0.629630\n",
      "2       0.472826\n",
      "3       0.242363\n"
     ]
    },
    {
     "data": {
      "image/png": "[encoded data removed]",
      "text/plain": [
       "<matplotlib.figure.Figure at 0xbccddd8>"
      ]
     },
     "metadata": {},
     "output_type": "display_data"
    }
   ],
   "source": [
    "# 分析仓位存活率\n",
    "\n",
    "p_survivedRatio = refresh_train[['Pclass', \"Survived\"]].groupby(['Pclass']).mean()\n",
    "print(p_survivedRatio)\n",
    "\n",
    "plt.bar(\n",
    "    [0.1, 1, 1.9], \n",
    "    [p_survivedRatio.loc[1, 'Survived'], p_survivedRatio.loc[2, 'Survived'],  p_survivedRatio.loc[3, 'Survived']], \n",
    "    0.5,\n",
    "    color='r',                                                                                  \n",
    "    alpha=0.5,  \n",
    ")\n",
    "\n",
    "plt.xticks([0.35, 1.25, 2.15], ['1', '2', '3'])\n",
    "plt.xlabel(\"Class\")\n",
    "plt.ylabel(\"Survived Ratio\")\n",
    "plt.show()"
   ]
  },
  {
   "cell_type": "code",
   "execution_count": 162,
   "metadata": {
    "collapsed": false
   },
   "outputs": [
    {
     "name": "stdout",
     "output_type": "stream",
     "text": [
      "      Survived\n",
      "Age           \n",
      "0.42       1.0\n",
      "0.67       1.0\n",
      "0.75       1.0\n",
      "0.83       1.0\n",
      "0.92       1.0\n"
     ]
    },
    {
     "data": {
      "image/png": "[encoded data removed]",
      "text/plain": [
       "<matplotlib.figure.Figure at 0xbd01b38>"
      ]
     },
     "metadata": {},
     "output_type": "display_data"
    }
   ],
   "source": [
    "# 分析年龄存活率\n",
    "\n",
    "age_survivedRatio = refresh_train[['Age', \"Survived\"]].groupby(['Age']).mean()\n",
    "print(age_survivedRatio.head())\n",
    "\n",
    "plt.figure(2, figsize=(20,5))                                                         # 定义两个字图，宽高为20,5\n",
    "plt.bar(\n",
    "    age_survivedRatio.index,\n",
    "    age_survivedRatio.values,\n",
    "    0.5,\n",
    "    color='r',\n",
    "    alpha=0.7\n",
    ")\n",
    "# plt.axis([0,80,0,20])\n",
    "plt.xticks(age_survivedRatio.index,rotation=90)                                       # rotation:文本显示时旋转的角度,90度表示垂直显示\n",
    "\n",
    "plt.show()"
   ]
  },
  {
   "cell_type": "code",
   "execution_count": 161,
   "metadata": {
    "collapsed": false
   },
   "outputs": [
    {
     "name": "stdout",
     "output_type": "stream",
     "text": [
      "        Survived\n",
      "Fare            \n",
      "0.0000  0.066667\n",
      "4.0125  0.000000\n",
      "5.0000  0.000000\n",
      "6.2375  0.000000\n",
      "6.4375  0.000000\n"
     ]
    },
    {
     "data": {
      "image/png": "[encoded data removed]",
      "text/plain": [
       "<matplotlib.figure.Figure at 0xbd4b780>"
      ]
     },
     "metadata": {},
     "output_type": "display_data"
    }
   ],
   "source": [
    "# 分析船票与存活率的关系 \n",
    "\n",
    "fare_survivedRatio = refresh_train[['Fare', \"Survived\"]].groupby(['Fare']).mean()\n",
    "print(fare_survivedRatio.head())\n",
    "\n",
    "plt.figure(2, figsize=(20,5))\n",
    "plt.bar(\n",
    "    fare_survivedRatio.index,\n",
    "    fare_survivedRatio.values,\n",
    "    0.5,\n",
    "    color='r',\n",
    "    alpha=0.7\n",
    ")\n",
    "# plt.axis([0,80,0,20])\n",
    "plt.xticks(fare_survivedRatio.index,rotation=90)\n",
    "\n",
    "plt.show()"
   ]
  },
  {
   "cell_type": "code",
   "execution_count": 183,
   "metadata": {
    "collapsed": false
   },
   "outputs": [
    {
     "data": {
      "text/plain": [
       "KNeighborsClassifier(algorithm='auto', leaf_size=30, metric='minkowski',\n",
       "           metric_params=None, n_jobs=1, n_neighbors=20, p=2,\n",
       "           weights='uniform')"
      ]
     },
     "execution_count": 183,
     "metadata": {},
     "output_type": "execute_result"
    }
   ],
   "source": [
    "# 建立机器学习模型，利用KNN算法\n",
    "\n",
    "x_train = refresh_train.loc[:, ['Pclass','Sex','familysize']]\n",
    "y_train = np.array(refresh_train.loc[:, ['Survived']]).reshape(x_train.shape[0])\n",
    "\n",
    "knc = KNeighborsClassifier(n_neighbors = 20)\n",
    "knc.fit(x_train, y_train)"
   ]
  },
  {
   "cell_type": "code",
   "execution_count": 189,
   "metadata": {
    "collapsed": false
   },
   "outputs": [
    {
     "name": "stdout",
     "output_type": "stream",
     "text": [
      "[0 0 0 0 1 0 1 0 1 0 0 0 1 0 1 1 0 0 0 1 0 0 1 0 1 0 1 0 0 0 0 0 1 1 0 0 1\n",
      " 1 0 0 0 0 0 1 1 0 0 0 1 1 0 0 1 0 0 0 0 0 0 1 0 0 0 1 1 1 1 0 0 0 1 0 1 0\n",
      " 1 0 0 1 0 1 0 0 0 0 0 0 1 1 1 0 0 0 1 0 0 0 1 0 1 0 1 0 0 0 1 0 0 0 0 0 0\n",
      " 1 1 1 1 0 0 1 0 1 1 0 1 0 0 0 0 1 0 0 0 0 0 0 0 0 0 0 1 0 0 1 1 0 0 0 0 0\n",
      " 0 0 1 0 0 1 0 0 1 1 0 1 1 0 1 0 0 1 0 0 1 1 0 0 0 0 0 1 1 0 1 1 0 1 1 0 1\n",
      " 0 1 0 0 0 0 0 0 0 0 0 1 1 0 1 1 0 0 1 0 0 1 0 1 0 0 0 0 1 0 0 1 1 1 0 1 0\n",
      " 1 0 1 1 0 1 0 0 0 1 0 0 0 0 0 0 1 1 1 1 1 0 0 0 1 0 1 0 1 0 0 0 0 0 0 0 1\n",
      " 0 0 0 1 1 0 0 0 0 1 0 0 0 1 0 0 1 0 0 0 0 1 0 1 1 1 0 0 0 0 0 0 1 0 1 0 0\n",
      " 1 0 0 0 0 0 0 0 1 1 0 0 1 0 0 0 0 1 1 1 0 0 0 0 0 0 0 0 1 0 1 0 0 0 1 0 0\n",
      " 1 0 0 0 0 0 0 0 0 0 1 0 1 0 1 0 1 1 0 0 1 1 0 1 0 0 0 0 1 1 0 1 0 0 1 1 0\n",
      " 0 1 0 0 1 1 1 0 0 0 0 0 1 0 0 1 0 0 0 0 0 1 0 0 0 1 0 1 0 0 1 0 1 0 0 0 0\n",
      " 1 1 1 1 1 1 0 1 0 0 0]\n"
     ]
    }
   ],
   "source": [
    "x_test = refresh_test.loc[:, ['Pclass','Sex','familysize']]\n",
    "\n",
    "prediction = knc.predict(x_test)\n",
    "print(prediction)"
   ]
  },
  {
   "cell_type": "code",
   "execution_count": 229,
   "metadata": {
    "collapsed": false
   },
   "outputs": [
    {
     "name": "stdout",
     "output_type": "stream",
     "text": [
      "   Passengers  Survived\n",
      "0         892         0\n",
      "1         893         0\n",
      "2         894         0\n",
      "3         895         0\n",
      "4         896         1\n"
     ]
    }
   ],
   "source": [
    "# 保存为指定格式的CSV\n",
    "# s = np.arange(892, 1310)\n",
    "\n",
    "s = np.arange(892, 1310)                                          # 索引顺序为规定的\n",
    "results = pd.DataFrame(columns=[\"Passengers\", \"Survived\"])\n",
    "results['Passengers'] = s\n",
    "results[\"Survived\"] = prediction\n",
    "\n",
    "print(results.head())\n",
    "results.to_csv(\"./result.xlsx\", index=False)                      # 不把索引导出"
   ]
  }
 ],
 "metadata": {
  "anaconda-cloud": {},
  "kernelspec": {
   "display_name": "Python [conda root]",
   "language": "python",
   "name": "conda-root-py"
  },
  "language_info": {
   "codemirror_mode": {
    "name": "ipython",
    "version": 3
   },
   "file_extension": ".py",
   "mimetype": "text/x-python",
   "name": "python",
   "nbconvert_exporter": "python",
   "pygments_lexer": "ipython3",
   "version": "3.5.2"
  }
 },
 "nbformat": 4,
 "nbformat_minor": 1
}
